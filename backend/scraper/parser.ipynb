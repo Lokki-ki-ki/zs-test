{
 "cells": [
  {
   "cell_type": "code",
   "execution_count": 21,
   "metadata": {},
   "outputs": [],
   "source": [
    "from Scraper import EccCollector\n",
    "from Parser import EccParser\n",
    "import pandas as pd"
   ]
  },
  {
   "cell_type": "code",
   "execution_count": 23,
   "metadata": {},
   "outputs": [
    {
     "name": "stderr",
     "output_type": "stream",
     "text": [
      "2023-11-24 03:08:14,713 Initializing Chrome Driver...\n",
      "2023-11-24 03:08:14,714 ====== WebDriver manager ======\n",
      "2023-11-24 03:08:15,987 Get LATEST chromedriver version for google-chrome\n",
      "2023-11-24 03:08:16,083 Get LATEST chromedriver version for google-chrome\n",
      "2023-11-24 03:08:16,119 Driver [/Users/lokki/.wdm/drivers/chromedriver/mac64/119.0.6045.105/chromedriver-mac-arm64/chromedriver] found in cache\n",
      "2023-11-24 03:08:17,151 Chrome Driver initialized.\n",
      "2023-11-24 03:08:38,165 Getting article Ford Motor Company 2023 Q3 - Results - Earnings Call Presentation...\n",
      "2023-11-24 03:08:38,181 Getting article Ford Motor Company (F) Q3 2023 Earnings Call Transcript...\n",
      "2023-11-24 03:08:38,196 Getting article Ford Motor Company (F) Management Presents at Morgan Stanley's 11th Annual Laguna Conference (Transcript)...\n",
      "2023-11-24 03:08:38,210 Getting article Ford Motor Company (F) J.P. Morgan Auto Conference (Transcript)...\n",
      "2023-11-24 03:08:38,225 Getting article Ford Motor Company 2023 Q2 - Results - Earnings Call Presentation...\n",
      "2023-11-24 03:08:38,242 Getting article Ford Motor Company (F) Q2 2023 Earnings Call Transcript...\n",
      "2023-11-24 03:08:38,257 Getting article Ford Motor Company (F) Deutsche Bank Global Automotive Conference (Transcript)...\n",
      "2023-11-24 03:08:38,273 Getting article Ford (F) Presents at Bernstein Strategic Decisions Conference - Company Call Transcript...\n",
      "2023-11-24 03:08:38,287 Getting article Ford Motor Company (F) Morgan Stanley Sustainable Finance Summit Conference (Transcript)...\n",
      "2023-11-24 03:08:38,304 Getting article Ford Motor Company (F) Q1 2023 Earnings Call Transcript...\n",
      "2023-11-24 03:08:38,318 Getting article Ford Motor Company 2023 Q1 - Results - Earnings Call Presentation...\n",
      "2023-11-24 03:08:38,333 Getting article Ford Motor Company (F) Bank of America 2023 Global Auto Summit (virtual) (Transcript)...\n",
      "2023-11-24 03:08:38,348 Getting article Ford Motor Co (F) Deutsche Bank dbAccess Global ESG Conference Call Transcript...\n",
      "2023-11-24 03:08:38,363 Getting article Ford Motor Company (F) Presents at J.P. Morgan High Yield & Leveraged Finance Conference (Transcript)...\n",
      "2023-11-24 03:08:38,377 Getting article Ford Motor Company (F) Presents at Wolfe Research Global Auto, Auto Tech, and Auto Consumer Conference (Transcript)...\n",
      "2023-11-24 03:08:38,392 Getting article Ford Motor Company (F) Q4 2022 Earnings Call Transcript...\n",
      "2023-11-24 03:08:38,406 Getting article Ford Motor Company (F) Presents at Bernstein's 6th Electric Revolution Conference...\n",
      "2023-11-24 03:08:38,422 Getting article Ford Motor Company (F) Q3 2022 Earnings Call Transcript...\n",
      "2023-11-24 03:08:38,437 Getting article Ford Motor Company (F) Presents at J.P. Morgan 2022 Automotive Conference (Transcript)...\n",
      "2023-11-24 03:08:38,454 Getting article Ford Motor Company (F) CEO James Farley on Q2 2022 Results - Earnings Call Transcript...\n",
      "2023-11-24 03:08:38,477 Getting article Ford Motor Company 2022 Q2 - Results - Earnings Call Presentation...\n",
      "2023-11-24 03:08:38,494 Getting article Ford Motor Company (F) Management Presents at Deutsche Bank 2022 Global Automotive Conference (Transcript)...\n",
      "2023-11-24 03:08:38,509 Getting article Ford Motor Company (F) CEO James Farley Presents at Bernstein 38th Annual Strategic Decisions Conference (Transcript)...\n",
      "2023-11-24 03:08:38,525 Getting article Ford Motor Company (F) CEO Jim Farley on Q1 2022 Results - Earnings Call Transcript...\n",
      "2023-11-24 03:08:38,539 Getting article Ford Motor Company 2022 Q1 - Results - Earnings Call Presentation...\n",
      "2023-11-24 03:08:38,554 Getting article Ford Motor Company (F) Presents at Exane-Jefferies Spring Automotive Conference (Transcript)...\n",
      "2023-11-24 03:08:38,570 Getting article Ford Motor Company 2021 Q4 - Results - Earnings Call Presentation...\n",
      "2023-11-24 03:08:38,585 Getting article Ford Motor Company's (F) CEO Jim Farley on Q4 2021 Results - Earnings Call Transcript...\n",
      "2023-11-24 03:08:38,600 Getting article Ford Motor Company 2021 Q3 - Results - Earnings Call Presentation...\n",
      "2023-11-24 03:08:38,615 Getting article Ford Motor Company (F) CEO Jim Farley on Q3 2021 Results - Earnings Call Transcript...\n",
      "2023-11-24 03:08:38,631 Getting article Ford Motor Company's (F) Management Presents on Evercore ISI Autotech & AI Forum Conference (Transcript)...\n",
      "2023-11-24 03:08:38,646 Getting article Ford Motor Company (F) Presents at Morgan Stanley Virtual 9th Annual Laguna Conference (Transcript)...\n",
      "2023-11-24 03:08:38,661 Getting article Ford Motor Company's (F) Management Presents at RBC Capital Markets Global Industrials Conference (Transcript)...\n",
      "2023-11-24 03:08:38,675 Getting article Ford (F) Presents At J.P. Morgan Auto Conference...\n",
      "2023-11-24 03:08:38,691 Getting article Ford Motor (F) Presents At Jefferies 2021 Industrials Conference - Slideshow...\n",
      "2023-11-24 03:08:38,706 Getting article Ford Motor Company (F) CEO Jim Farley on Q2 2021 Results - Earnings Call Transcript...\n",
      "2023-11-24 03:08:38,721 Getting article Ford Motor Company (F) CEO Jim Farley Presents at Deutsche Bank's Global Auto Industry Conference (Transcript)...\n",
      "2023-11-24 03:08:38,736 Getting article Ford Motor Company's (F) CEO Jim Farley on Q1 2021 Results - Earnings Call Transcript...\n",
      "2023-11-24 03:08:38,751 Getting article Ford Motor Company 2021 Q1 - Results - Earnings Call Presentation...\n",
      "2023-11-24 03:08:38,765 Getting article Ford Motor (F) Presents At Bank of America Global Automotive Summit - Slideshow...\n",
      "2023-11-24 03:08:38,766 40 articles have been saved for F.\n",
      "2023-11-24 03:08:38,771 Article list for F saved as F_transcripts.csv.\n",
      "2023-11-24 03:08:38,772 Getting article Ford Motor Company 2023 Q3 - Results - Earnings Call Presentation...\n"
     ]
    },
    {
     "name": "stdout",
     "output_type": "stream",
     "text": [
      "\n",
      "\n",
      "\u001b[1m> Entering new MapReduceDocumentsChain chain...\u001b[0m\n",
      "\n",
      "\n",
      "\u001b[1m> Entering new LLMChain chain...\u001b[0m\n",
      "Prompt after formatting:\n",
      "\u001b[32;1m\u001b[1;3m\n",
      "        Please provide a summary of the following earning conference call transcripts.\n",
      "        ```The following slide deck was published by Ford Motor Company in conjunction with their 2023 Q3 earnings call.```\n",
      "        SUMMARY:\n",
      "        \u001b[0m\n",
      "\n",
      "\u001b[1m> Finished chain.\u001b[0m\n",
      "\n",
      "\n",
      "\u001b[1m> Entering new LLMChain chain...\u001b[0m\n",
      "Prompt after formatting:\n",
      "\u001b[32;1m\u001b[1;3m\n",
      "        Please provide a summary of the following earning conference call transcripts. Please provide the output in a manner that a credit rating agency could use to write a credit rating report.\n",
      "        Please keep the results under 500 words.\n",
      "        ```\n",
      "The slide deck published by Ford Motor Company in conjunction with their 2023 Q3 earnings call provides an overview of the company's financial performance and key highlights for the quarter. The presentation includes information on revenue, net income, and earnings per share, as well as updates on sales and production numbers for their various vehicle models. The company also discusses their strategic initiatives and future plans, including investments in electric and autonomous vehicles. Overall, the presentation highlights a strong quarter for Ford and their continued efforts to innovate and adapt to the changing automotive industry.```\n",
      "        SUMMARY:\n",
      "        \u001b[0m\n"
     ]
    },
    {
     "name": "stderr",
     "output_type": "stream",
     "text": [
      "2023-11-24 03:08:44,860 Initializing Chrome Driver...\n",
      "2023-11-24 03:08:44,861 ====== WebDriver manager ======\n",
      "2023-11-24 03:08:44,963 Get LATEST chromedriver version for google-chrome\n"
     ]
    },
    {
     "name": "stdout",
     "output_type": "stream",
     "text": [
      "\n",
      "\u001b[1m> Finished chain.\u001b[0m\n",
      "\n",
      "\u001b[1m> Finished chain.\u001b[0m\n"
     ]
    },
    {
     "name": "stderr",
     "output_type": "stream",
     "text": [
      "2023-11-24 03:08:45,290 Get LATEST chromedriver version for google-chrome\n",
      "2023-11-24 03:08:45,325 Driver [/Users/lokki/.wdm/drivers/chromedriver/mac64/119.0.6045.105/chromedriver-mac-arm64/chromedriver] found in cache\n",
      "2023-11-24 03:08:46,071 Chrome Driver initialized.\n",
      "2023-11-24 03:09:07,165 Getting article Shell plc 2023 Q3 - Results - Earnings Call Presentation...\n",
      "2023-11-24 03:09:07,184 Getting article Shell plc (SHEL) Q3 2023 Earnings Call Transcript...\n",
      "2023-11-24 03:09:07,198 Getting article Shell PLC (SHEL) Q1 2023 Earnings Call Transcript...\n",
      "2023-11-24 03:09:07,214 Getting article Shell PLC (SHEL) Q4 2022 Earnings Call Transcript...\n",
      "2023-11-24 03:09:07,230 Getting article Shell plc (SHEL) Q3 2022 Earnings Call Transcript...\n",
      "2023-11-24 03:09:07,245 Getting article Shell PLC (SHEL) CEO Ben Van Beurden on Q2 2022 Results - Earnings Call Transcript...\n",
      "2023-11-24 03:09:07,260 Getting article Shell plc 2022 Q1 - Results - Earnings Call Presentation...\n",
      "2023-11-24 03:09:07,274 Getting article Shell plc (SHEL) CEO Ben van Beurden on Q1 2022 Results - Earnings Call Transcript...\n",
      "2023-11-24 03:09:07,294 Getting article Shell Plc - ADR (SHEL) CEO Ben Van Beurden on Q4 2021 Results - Earnings Call Transcript...\n",
      "2023-11-24 03:09:07,308 Getting article Shell Plc - ADR 2021 Q4 - Results - Earnings Call Presentation...\n",
      "2023-11-24 03:09:07,326 Getting article Royal Dutch Shell plc (RDS.B) CEO Ben van Beurden on Q3 2021 Results - Earnings Call Transcript...\n",
      "2023-11-24 03:09:07,340 Getting article Royal Dutch Shell plc 2021 Q3 - Results - Earnings Call Presentation...\n",
      "2023-11-24 03:09:07,356 Getting article Royal Dutch Shell plc (RYDAF) CEO Ben Van Beurden on Q2 2021 Results - Earnings Call Transcript...\n",
      "2023-11-24 03:09:07,371 Getting article Royal Dutch Shell plc (RDS.A) CEO Ben van Beurden on Q2 2021 Results - Earnings Call Transcript...\n",
      "2023-11-24 03:09:07,385 Getting article Royal Dutch Shell plc 2021 Q2 - Results - Earnings Call Presentation...\n",
      "2023-11-24 03:09:07,399 Getting article Royal Dutch Shell plc (RYDAF) Q1 2021 Results - Earnings Call Transcript...\n",
      "2023-11-24 03:09:07,414 Getting article Royal Dutch Shell plc 2021 Q1 - Results - Earnings Call Presentation...\n",
      "2023-11-24 03:09:07,428 Getting article Royal Dutch Shell plc 2020 Q4 - Results - Earnings Call Presentation...\n",
      "2023-11-24 03:09:07,445 Getting article Royal Dutch Shell plc (RDS.A) CEO Ben van Beurden on Q4 2020 Results - Earnings Call Transcript...\n",
      "2023-11-24 03:09:07,461 Getting article Royal Dutch Shell plc 2020 Q4 - Results - Earnings Call Presentation...\n",
      "2023-11-24 03:09:07,477 Getting article Royal Dutch Shell plc 2020 Q3 - Results - Earnings Call Presentation...\n",
      "2023-11-24 03:09:07,493 Getting article Royal Dutch Shell's (RDS.A) CEO Ben van Beurden on Q3 2020 Results - Earnings Call Transcript...\n",
      "2023-11-24 03:09:07,508 Getting article Royal Dutch Shell PLC (RDS.A) CEO Ben Beurden on Q2 2020 Results - Earnings Call Transcript...\n",
      "2023-11-24 03:09:07,523 Getting article Royal Dutch Shell plc 2020 Q2 - Results - Earnings Call Presentation...\n",
      "2023-11-24 03:09:07,536 Getting article Royal Dutch Shell's (RDS.A) CEO Ben van Beurden on Q1 2020 Results - Earnings Call Transcript...\n",
      "2023-11-24 03:09:07,550 Getting article Royal Dutch Shell plc 2020 Q1 - Results - Earnings Call Presentation...\n",
      "2023-11-24 03:09:07,565 Getting article Royal Dutch Shell plc (RDS.A) CEO Ben van Beurden on Q4 2019 Results - Earnings Call Transcript...\n",
      "2023-11-24 03:09:07,579 Getting article Royal Dutch Shell plc 2019 Q4 - Results - Earnings Call Presentation...\n",
      "2023-11-24 03:09:07,594 Getting article Royal Dutch Shell plc 2019 Q3 - Results - Earnings Call Presentation...\n",
      "2023-11-24 03:09:07,610 Getting article Royal Dutch Shell plc (RDS.A) CEO Ben van Beurden on Q3 2019 Results - Earnings Call Transcript...\n",
      "2023-11-24 03:09:07,625 Getting article Royal Dutch Shell plc (RDS.A) Ben van Beurden on Q2 2019 Results - Earnings Call Transcript...\n",
      "2023-11-24 03:09:07,638 Getting article Royal Dutch Shell Plc 2019 Q2 - Results - Earnings Call Slides...\n",
      "2023-11-24 03:09:07,653 Getting article Royal Dutch Shell plc's (RDS.A) Management on Q1 2019 Results - Earnings Call Transcript...\n",
      "2023-11-24 03:09:07,667 Getting article Royal Dutch Shell Plc (RDS.A) Q4 2018 Results - Earnings Call Transcript...\n",
      "2023-11-24 03:09:07,681 Getting article Royal Dutch Shell plc 2018 Q4 - Results - Earnings Call Slides...\n",
      "2023-11-24 03:09:07,696 Getting article Royal Dutch Shell Plc (RDS.A) Q3 2018 Results - Earnings Call Transcript...\n",
      "2023-11-24 03:09:07,709 Getting article Royal Dutch Shell plc 2018 Q3 - Results - Earnings Call Slides...\n",
      "2023-11-24 03:09:07,724 Getting article Royal Dutch Shell Plc (RDS.A) Q2 2018 Results - Earnings Call Transcript...\n",
      "2023-11-24 03:09:07,737 Getting article Royal Dutch Shell plc 2018 Q2 - Results - Earnings Call Slides...\n",
      "2023-11-24 03:09:07,751 Getting article Royal Dutch Shell Plc (RDS.A) Q1 2018 Results - Earnings Call Transcript...\n",
      "2023-11-24 03:09:07,752 40 articles have been saved for SHEL.\n",
      "2023-11-24 03:09:07,754 Article list for SHEL saved as SHEL_transcripts.csv.\n",
      "2023-11-24 03:09:07,756 Getting article Shell plc 2023 Q3 - Results - Earnings Call Presentation...\n"
     ]
    },
    {
     "name": "stdout",
     "output_type": "stream",
     "text": [
      "\n",
      "\n",
      "\u001b[1m> Entering new MapReduceDocumentsChain chain...\u001b[0m\n",
      "\n",
      "\n",
      "\u001b[1m> Entering new LLMChain chain...\u001b[0m\n",
      "Prompt after formatting:\n",
      "\u001b[32;1m\u001b[1;3m\n",
      "        Please provide a summary of the following earning conference call transcripts.\n",
      "        ```The following slide deck was published by Shell plc in conjunction with their 2023 Q3 earnings call.```\n",
      "        SUMMARY:\n",
      "        \u001b[0m\n",
      "\n",
      "\u001b[1m> Finished chain.\u001b[0m\n",
      "\n",
      "\n",
      "\u001b[1m> Entering new LLMChain chain...\u001b[0m\n",
      "Prompt after formatting:\n",
      "\u001b[32;1m\u001b[1;3m\n",
      "        Please provide a summary of the following earning conference call transcripts. Please provide the output in a manner that a credit rating agency could use to write a credit rating report.\n",
      "        Please keep the results under 500 words.\n",
      "        ```\n",
      "The slide deck published by Shell plc in conjunction with their 2023 Q3 earnings call provides an overview of the company's financial performance and key highlights for the quarter. The presentation includes information on revenue, earnings, and cash flow, as well as updates on production and capital expenditure. The company also discusses its strategic priorities and future outlook, including plans for growth and sustainability. Overall, the presentation highlights a strong quarter for Shell plc and a positive outlook for the future.```\n",
      "        SUMMARY:\n",
      "        \u001b[0m\n",
      "\n",
      "\u001b[1m> Finished chain.\u001b[0m\n",
      "\n",
      "\u001b[1m> Finished chain.\u001b[0m\n"
     ]
    }
   ],
   "source": [
    "def generate_data(ticker, nums):\n",
    "    collector = EccCollector()\n",
    "    parser = EccParser()\n",
    "    lst = collector.getArticleList(ticker, nums)\n",
    "    # Parse each article\n",
    "    parser = EccParser()\n",
    "    item = {}\n",
    "    for i in range(min(nums, len(lst))):\n",
    "        html = collector.getSingleArticle(lst.iloc[i]['ecc_url'], lst.iloc[i]['ecc_title'])\n",
    "        item[\"title\"] = lst.iloc[i]['ecc_title']\n",
    "        summary = parser.extract_paragraphs_based_on_sample(html)\n",
    "        item[\"content\"] = summary\n",
    "        item[\"ticker\"] = ticker\n",
    "        item[\"date\"] = lst.iloc[i]['year'] + lst.iloc[i]['quarter']\n",
    "    data = pd.DataFrame([item])\n",
    "    return data\n",
    "\n",
    "def generate_data_from_list(tickers, nums):\n",
    "    data = []\n",
    "    for ticker in tickers:\n",
    "        data.append(generate_data(ticker, nums))\n",
    "    return data\n",
    "\n",
    "data = generate_data_from_list([\"AMZN\", \"SHEL\", \"F\"], 1)"
   ]
  },
  {
   "cell_type": "code",
   "execution_count": 43,
   "metadata": {},
   "outputs": [
    {
     "data": {
      "text/plain": [
       "3"
      ]
     },
     "execution_count": 43,
     "metadata": {},
     "output_type": "execute_result"
    }
   ],
   "source": [
    "# Load to sqlite3\n",
    "\n",
    "import sqlite3\n",
    "\n",
    "conn = sqlite3.connect(\"database.db\")\n",
    "data.to_sql(\"reports\", conn, if_exists=\"replace\", index=False)"
   ]
  },
  {
   "cell_type": "code",
   "execution_count": 44,
   "metadata": {},
   "outputs": [
    {
     "data": {
      "text/plain": [
       "3"
      ]
     },
     "execution_count": 44,
     "metadata": {},
     "output_type": "execute_result"
    }
   ],
   "source": [
    "companies = pd.read_csv(\"companies.csv\")\n",
    "companies.to_sql(\"companies\", conn, if_exists=\"replace\", index=False)"
   ]
  },
  {
   "cell_type": "code",
   "execution_count": 45,
   "metadata": {},
   "outputs": [
    {
     "data": {
      "text/plain": [
       "282"
      ]
     },
     "execution_count": 45,
     "metadata": {},
     "output_type": "execute_result"
    }
   ],
   "source": [
    "fin = pd.read_csv(\"fin_df.csv\")\n",
    "fin.to_sql(\"fin\", conn, if_exists=\"replace\", index=False)"
   ]
  }
 ],
 "metadata": {
  "kernelspec": {
   "display_name": "myenv",
   "language": "python",
   "name": "python3"
  },
  "language_info": {
   "codemirror_mode": {
    "name": "ipython",
    "version": 3
   },
   "file_extension": ".py",
   "mimetype": "text/x-python",
   "name": "python",
   "nbconvert_exporter": "python",
   "pygments_lexer": "ipython3",
   "version": "3.9.18"
  }
 },
 "nbformat": 4,
 "nbformat_minor": 2
}
